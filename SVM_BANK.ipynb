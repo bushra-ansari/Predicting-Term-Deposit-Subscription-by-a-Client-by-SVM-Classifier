{
 "cells": [
  {
   "cell_type": "code",
   "execution_count": 1,
   "id": "2e34f461",
   "metadata": {},
   "outputs": [],
   "source": [
    "import os\n",
    "import numpy as np \n",
    "import pandas as pd\n",
    "import matplotlib.pyplot as plt\n",
    "import seaborn as sns\n",
    "from sklearn import svm \n",
    "from sklearn import metrics\n",
    "from sklearn.model_selection import train_test_split\n",
    "from sklearn.preprocessing import StandardScaler, MinMaxScaler"
   ]
  },
  {
   "cell_type": "code",
   "execution_count": 2,
   "id": "110ca633",
   "metadata": {},
   "outputs": [],
   "source": [
    "os.chdir(r'C:\\Users\\Bushra Ansari\\Desktop\\LMS_DATASET\\SVM\\Predicting Term Deposit Subscription by a client')"
   ]
  },
  {
   "cell_type": "code",
   "execution_count": 3,
   "id": "8e6481fe",
   "metadata": {},
   "outputs": [
    {
     "data": {
      "text/plain": [
       "['bank-additional-full.csv', 'Problem Statement_SVM.pdf']"
      ]
     },
     "execution_count": 3,
     "metadata": {},
     "output_type": "execute_result"
    }
   ],
   "source": [
    "os.listdir()"
   ]
  },
  {
   "cell_type": "code",
   "execution_count": 4,
   "id": "1a1bc104",
   "metadata": {},
   "outputs": [
    {
     "data": {
      "text/html": [
       "<div>\n",
       "<style scoped>\n",
       "    .dataframe tbody tr th:only-of-type {\n",
       "        vertical-align: middle;\n",
       "    }\n",
       "\n",
       "    .dataframe tbody tr th {\n",
       "        vertical-align: top;\n",
       "    }\n",
       "\n",
       "    .dataframe thead th {\n",
       "        text-align: right;\n",
       "    }\n",
       "</style>\n",
       "<table border=\"1\" class=\"dataframe\">\n",
       "  <thead>\n",
       "    <tr style=\"text-align: right;\">\n",
       "      <th></th>\n",
       "      <th>age</th>\n",
       "      <th>job</th>\n",
       "      <th>marital</th>\n",
       "      <th>education</th>\n",
       "      <th>default</th>\n",
       "      <th>housing</th>\n",
       "      <th>loan</th>\n",
       "      <th>contact</th>\n",
       "      <th>month</th>\n",
       "      <th>day_of_week</th>\n",
       "      <th>...</th>\n",
       "      <th>campaign</th>\n",
       "      <th>pdays</th>\n",
       "      <th>previous</th>\n",
       "      <th>poutcome</th>\n",
       "      <th>emp.var.rate</th>\n",
       "      <th>cons.price.idx</th>\n",
       "      <th>cons.conf.idx</th>\n",
       "      <th>euribor3m</th>\n",
       "      <th>nr.employed</th>\n",
       "      <th>y</th>\n",
       "    </tr>\n",
       "  </thead>\n",
       "  <tbody>\n",
       "    <tr>\n",
       "      <th>0</th>\n",
       "      <td>56</td>\n",
       "      <td>housemaid</td>\n",
       "      <td>married</td>\n",
       "      <td>basic.4y</td>\n",
       "      <td>no</td>\n",
       "      <td>no</td>\n",
       "      <td>no</td>\n",
       "      <td>telephone</td>\n",
       "      <td>may</td>\n",
       "      <td>mon</td>\n",
       "      <td>...</td>\n",
       "      <td>1</td>\n",
       "      <td>999</td>\n",
       "      <td>0</td>\n",
       "      <td>nonexistent</td>\n",
       "      <td>1.1</td>\n",
       "      <td>93.994</td>\n",
       "      <td>-36.4</td>\n",
       "      <td>4.857</td>\n",
       "      <td>5191</td>\n",
       "      <td>no</td>\n",
       "    </tr>\n",
       "    <tr>\n",
       "      <th>1</th>\n",
       "      <td>57</td>\n",
       "      <td>services</td>\n",
       "      <td>married</td>\n",
       "      <td>high.school</td>\n",
       "      <td>unknown</td>\n",
       "      <td>no</td>\n",
       "      <td>no</td>\n",
       "      <td>telephone</td>\n",
       "      <td>may</td>\n",
       "      <td>mon</td>\n",
       "      <td>...</td>\n",
       "      <td>1</td>\n",
       "      <td>999</td>\n",
       "      <td>0</td>\n",
       "      <td>nonexistent</td>\n",
       "      <td>1.1</td>\n",
       "      <td>93.994</td>\n",
       "      <td>-36.4</td>\n",
       "      <td>4.857</td>\n",
       "      <td>5191</td>\n",
       "      <td>no</td>\n",
       "    </tr>\n",
       "    <tr>\n",
       "      <th>2</th>\n",
       "      <td>37</td>\n",
       "      <td>services</td>\n",
       "      <td>married</td>\n",
       "      <td>high.school</td>\n",
       "      <td>no</td>\n",
       "      <td>yes</td>\n",
       "      <td>no</td>\n",
       "      <td>telephone</td>\n",
       "      <td>may</td>\n",
       "      <td>mon</td>\n",
       "      <td>...</td>\n",
       "      <td>1</td>\n",
       "      <td>999</td>\n",
       "      <td>0</td>\n",
       "      <td>nonexistent</td>\n",
       "      <td>1.1</td>\n",
       "      <td>93.994</td>\n",
       "      <td>-36.4</td>\n",
       "      <td>4.857</td>\n",
       "      <td>5191</td>\n",
       "      <td>no</td>\n",
       "    </tr>\n",
       "    <tr>\n",
       "      <th>3</th>\n",
       "      <td>40</td>\n",
       "      <td>admin.</td>\n",
       "      <td>married</td>\n",
       "      <td>basic.6y</td>\n",
       "      <td>no</td>\n",
       "      <td>no</td>\n",
       "      <td>no</td>\n",
       "      <td>telephone</td>\n",
       "      <td>may</td>\n",
       "      <td>mon</td>\n",
       "      <td>...</td>\n",
       "      <td>1</td>\n",
       "      <td>999</td>\n",
       "      <td>0</td>\n",
       "      <td>nonexistent</td>\n",
       "      <td>1.1</td>\n",
       "      <td>93.994</td>\n",
       "      <td>-36.4</td>\n",
       "      <td>4.857</td>\n",
       "      <td>5191</td>\n",
       "      <td>no</td>\n",
       "    </tr>\n",
       "    <tr>\n",
       "      <th>4</th>\n",
       "      <td>56</td>\n",
       "      <td>services</td>\n",
       "      <td>married</td>\n",
       "      <td>high.school</td>\n",
       "      <td>no</td>\n",
       "      <td>no</td>\n",
       "      <td>yes</td>\n",
       "      <td>telephone</td>\n",
       "      <td>may</td>\n",
       "      <td>mon</td>\n",
       "      <td>...</td>\n",
       "      <td>1</td>\n",
       "      <td>999</td>\n",
       "      <td>0</td>\n",
       "      <td>nonexistent</td>\n",
       "      <td>1.1</td>\n",
       "      <td>93.994</td>\n",
       "      <td>-36.4</td>\n",
       "      <td>4.857</td>\n",
       "      <td>5191</td>\n",
       "      <td>no</td>\n",
       "    </tr>\n",
       "  </tbody>\n",
       "</table>\n",
       "<p>5 rows × 21 columns</p>\n",
       "</div>"
      ],
      "text/plain": [
       "   age        job  marital    education  default housing loan    contact  \\\n",
       "0   56  housemaid  married     basic.4y       no      no   no  telephone   \n",
       "1   57   services  married  high.school  unknown      no   no  telephone   \n",
       "2   37   services  married  high.school       no     yes   no  telephone   \n",
       "3   40     admin.  married     basic.6y       no      no   no  telephone   \n",
       "4   56   services  married  high.school       no      no  yes  telephone   \n",
       "\n",
       "  month day_of_week  ...  campaign  pdays  previous     poutcome emp.var.rate  \\\n",
       "0   may         mon  ...         1    999         0  nonexistent          1.1   \n",
       "1   may         mon  ...         1    999         0  nonexistent          1.1   \n",
       "2   may         mon  ...         1    999         0  nonexistent          1.1   \n",
       "3   may         mon  ...         1    999         0  nonexistent          1.1   \n",
       "4   may         mon  ...         1    999         0  nonexistent          1.1   \n",
       "\n",
       "   cons.price.idx  cons.conf.idx  euribor3m  nr.employed   y  \n",
       "0          93.994          -36.4      4.857         5191  no  \n",
       "1          93.994          -36.4      4.857         5191  no  \n",
       "2          93.994          -36.4      4.857         5191  no  \n",
       "3          93.994          -36.4      4.857         5191  no  \n",
       "4          93.994          -36.4      4.857         5191  no  \n",
       "\n",
       "[5 rows x 21 columns]"
      ]
     },
     "execution_count": 4,
     "metadata": {},
     "output_type": "execute_result"
    }
   ],
   "source": [
    "bank = pd.read_csv('bank-additional-full.csv')\n",
    "bank.head()"
   ]
  },
  {
   "cell_type": "code",
   "execution_count": 5,
   "id": "c20dc49b",
   "metadata": {},
   "outputs": [
    {
     "data": {
      "text/plain": [
       "(41188, 21)"
      ]
     },
     "execution_count": 5,
     "metadata": {},
     "output_type": "execute_result"
    }
   ],
   "source": [
    "bank.shape"
   ]
  },
  {
   "cell_type": "code",
   "execution_count": 6,
   "id": "5ab16e71",
   "metadata": {},
   "outputs": [
    {
     "name": "stdout",
     "output_type": "stream",
     "text": [
      "<class 'pandas.core.frame.DataFrame'>\n",
      "RangeIndex: 41188 entries, 0 to 41187\n",
      "Data columns (total 21 columns):\n",
      " #   Column          Non-Null Count  Dtype  \n",
      "---  ------          --------------  -----  \n",
      " 0   age             41188 non-null  int64  \n",
      " 1   job             41188 non-null  object \n",
      " 2   marital         41188 non-null  object \n",
      " 3   education       41188 non-null  object \n",
      " 4   default         41188 non-null  object \n",
      " 5   housing         41188 non-null  object \n",
      " 6   loan            41188 non-null  object \n",
      " 7   contact         41188 non-null  object \n",
      " 8   month           41188 non-null  object \n",
      " 9   day_of_week     41188 non-null  object \n",
      " 10  duration        41188 non-null  int64  \n",
      " 11  campaign        41188 non-null  int64  \n",
      " 12  pdays           41188 non-null  int64  \n",
      " 13  previous        41188 non-null  int64  \n",
      " 14  poutcome        41188 non-null  object \n",
      " 15  emp.var.rate    41188 non-null  float64\n",
      " 16  cons.price.idx  41188 non-null  float64\n",
      " 17  cons.conf.idx   41188 non-null  float64\n",
      " 18  euribor3m       41188 non-null  float64\n",
      " 19  nr.employed     41188 non-null  int64  \n",
      " 20  y               41188 non-null  object \n",
      "dtypes: float64(4), int64(6), object(11)\n",
      "memory usage: 6.6+ MB\n"
     ]
    }
   ],
   "source": [
    "bank.info()"
   ]
  },
  {
   "cell_type": "code",
   "execution_count": 7,
   "id": "8bea6d71",
   "metadata": {},
   "outputs": [
    {
     "name": "stdout",
     "output_type": "stream",
     "text": [
      "12\n"
     ]
    },
    {
     "data": {
      "text/plain": [
       "(41188, 21)"
      ]
     },
     "execution_count": 7,
     "metadata": {},
     "output_type": "execute_result"
    }
   ],
   "source": [
    "print(bank.duplicated().sum())\n",
    "bank.shape"
   ]
  },
  {
   "cell_type": "code",
   "execution_count": 8,
   "id": "37d804cb",
   "metadata": {},
   "outputs": [
    {
     "data": {
      "text/plain": [
       "(41176, 21)"
      ]
     },
     "execution_count": 8,
     "metadata": {},
     "output_type": "execute_result"
    }
   ],
   "source": [
    "bank = bank.drop_duplicates()\n",
    "bank.shape"
   ]
  },
  {
   "cell_type": "markdown",
   "id": "4a169f05",
   "metadata": {},
   "source": [
    "#### Target Variable"
   ]
  },
  {
   "cell_type": "code",
   "execution_count": 9,
   "id": "215cf577",
   "metadata": {},
   "outputs": [
    {
     "data": {
      "text/plain": [
       "no     36537\n",
       "yes     4639\n",
       "Name: y, dtype: int64"
      ]
     },
     "execution_count": 9,
     "metadata": {},
     "output_type": "execute_result"
    }
   ],
   "source": [
    "bank['y'].value_counts(dropna=True)"
   ]
  },
  {
   "cell_type": "code",
   "execution_count": 10,
   "id": "730df348",
   "metadata": {},
   "outputs": [],
   "source": [
    "bank['y'].replace({'no' : '0', 'yes' : '1'}, inplace = True)"
   ]
  },
  {
   "cell_type": "code",
   "execution_count": 11,
   "id": "64d461a2",
   "metadata": {},
   "outputs": [
    {
     "data": {
      "image/png": "[encoded data removed]",
      "text/plain": [
       "<Figure size 432x288 with 1 Axes>"
      ]
     },
     "metadata": {
      "needs_background": "light"
     },
     "output_type": "display_data"
    }
   ],
   "source": [
    "sns.countplot(x = bank['y'], data = bank, palette = 'Set2')\n",
    "plt.show()"
   ]
  },
  {
   "cell_type": "markdown",
   "id": "2e8b9de9",
   "metadata": {},
   "source": [
    "From above countplot, we can see that data is imbalanced."
   ]
  },
  {
   "cell_type": "markdown",
   "id": "5343ea47",
   "metadata": {},
   "source": [
    "#### Categorical Predictors"
   ]
  },
  {
   "cell_type": "code",
   "execution_count": 12,
   "id": "98ce6212",
   "metadata": {},
   "outputs": [
    {
     "data": {
      "text/plain": [
       "Index(['job', 'marital', 'education', 'default', 'housing', 'loan', 'contact',\n",
       "       'month', 'day_of_week', 'poutcome', 'y'],\n",
       "      dtype='object')"
      ]
     },
     "execution_count": 12,
     "metadata": {},
     "output_type": "execute_result"
    }
   ],
   "source": [
    "bank.dtypes[bank.dtypes == 'object'].index"
   ]
  },
  {
   "cell_type": "code",
   "execution_count": 13,
   "id": "521a9793",
   "metadata": {},
   "outputs": [
    {
     "data": {
      "text/plain": [
       "admin.           10419\n",
       "blue-collar       9253\n",
       "technician        6739\n",
       "services          3967\n",
       "management        2924\n",
       "retired           1718\n",
       "entrepreneur      1456\n",
       "self-employed     1421\n",
       "housemaid         1060\n",
       "unemployed        1014\n",
       "student            875\n",
       "unknown            330\n",
       "Name: job, dtype: int64"
      ]
     },
     "execution_count": 13,
     "metadata": {},
     "output_type": "execute_result"
    }
   ],
   "source": [
    "bank['job'].value_counts(dropna=True)"
   ]
  },
  {
   "cell_type": "code",
   "execution_count": 14,
   "id": "512f5cb7",
   "metadata": {},
   "outputs": [],
   "source": [
    "bank['job'] = bank['job'].replace(['management', 'admin.'], 'White-collar')\n",
    "\n",
    "bank['job'] = bank['job'].replace(['services', 'housemaid'], 'Pink-collar')\n",
    "\n",
    "bank['job'] = bank['job'].replace(['retired', 'student', 'unemployed', 'unknown'], 'Others')\n",
    "\n",
    "bank['job'] = bank['job'].replace(['self-employed', 'entrepreneur'], 'Self-depend')"
   ]
  },
  {
   "cell_type": "code",
   "execution_count": 15,
   "id": "50fa85d1",
   "metadata": {},
   "outputs": [
    {
     "data": {
      "text/plain": [
       "array(['Pink-collar', 'White-collar', 'blue-collar', 'technician',\n",
       "       'Others', 'Self-depend'], dtype=object)"
      ]
     },
     "execution_count": 15,
     "metadata": {},
     "output_type": "execute_result"
    }
   ],
   "source": [
    "bank['job'].unique()"
   ]
  },
  {
   "cell_type": "code",
   "execution_count": 16,
   "id": "aca18f10",
   "metadata": {},
   "outputs": [
    {
     "data": {
      "image/png": "[encoded data removed]",
      "text/plain": [
       "<Figure size 360x360 with 1 Axes>"
      ]
     },
     "metadata": {},
     "output_type": "display_data"
    }
   ],
   "source": [
    "bank['marital'].value_counts(dropna=True).plot(kind = 'pie', autopct = '%0.2f%%', figsize = [5,5], \n",
    "             explode = [0,0.02,0.05,0.07],colors = ['#AB82FF', '#FFA54F','#CAFF70', '#CDCD00'], shadow = True)\n",
    "plt.show()"
   ]
  },
  {
   "cell_type": "code",
   "execution_count": 17,
   "id": "507d7db3",
   "metadata": {},
   "outputs": [
    {
     "data": {
      "text/plain": [
       "array(['basic.4y', 'high.school', 'basic.6y', 'basic.9y',\n",
       "       'professional.course', 'unknown', 'university.degree',\n",
       "       'illiterate'], dtype=object)"
      ]
     },
     "execution_count": 17,
     "metadata": {},
     "output_type": "execute_result"
    }
   ],
   "source": [
    "bank['education'].unique()"
   ]
  },
  {
   "cell_type": "code",
   "execution_count": 18,
   "id": "f40618d3",
   "metadata": {},
   "outputs": [],
   "source": [
    "bank['education'] = bank['education'].replace(['basic.4y', 'basic.6y', 'basic.9y'], 'primary')\n",
    "\n",
    "bank['education'] = bank['education'].replace([ 'high.school'], 'secondary')\n",
    "\n",
    "bank['education'] = bank['education'].replace(['university.degree', 'professional.course'], 'teritary')\n"
   ]
  },
  {
   "cell_type": "code",
   "execution_count": 19,
   "id": "1acd9d7c",
   "metadata": {},
   "outputs": [
    {
     "data": {
      "text/plain": [
       "array(['primary', 'secondary', 'teritary', 'unknown', 'illiterate'],\n",
       "      dtype=object)"
      ]
     },
     "execution_count": 19,
     "metadata": {},
     "output_type": "execute_result"
    }
   ],
   "source": [
    "bank['education'].unique()"
   ]
  },
  {
   "cell_type": "code",
   "execution_count": 20,
   "id": "63f85bfe",
   "metadata": {},
   "outputs": [
    {
     "data": {
      "image/png": "[encoded data removed]",
      "text/plain": [
       "<Figure size 432x288 with 1 Axes>"
      ]
     },
     "metadata": {
      "needs_background": "light"
     },
     "output_type": "display_data"
    }
   ],
   "source": [
    "sns.countplot(x = bank['default'], data = bank, palette = 'Dark2')\n",
    "plt.show()"
   ]
  },
  {
   "cell_type": "code",
   "execution_count": 21,
   "id": "c0eb0c46",
   "metadata": {},
   "outputs": [
    {
     "data": {
      "image/png": "[encoded data removed]",
      "text/plain": [
       "<Figure size 432x288 with 1 Axes>"
      ]
     },
     "metadata": {
      "needs_background": "light"
     },
     "output_type": "display_data"
    }
   ],
   "source": [
    "sns.countplot(x = bank['housing'], data = bank, palette = 'tab20c')\n",
    "plt.show()"
   ]
  },
  {
   "cell_type": "code",
   "execution_count": 22,
   "id": "896fc1df",
   "metadata": {},
   "outputs": [
    {
     "data": {
      "image/png": "[encoded data removed]",
      "text/plain": [
       "<Figure size 432x288 with 1 Axes>"
      ]
     },
     "metadata": {
      "needs_background": "light"
     },
     "output_type": "display_data"
    }
   ],
   "source": [
    "sns.countplot(x = bank['loan'], data = bank, palette = 'Set3')\n",
    "plt.show()"
   ]
  },
  {
   "cell_type": "code",
   "execution_count": 23,
   "id": "71745367",
   "metadata": {},
   "outputs": [
    {
     "data": {
      "image/png": "[encoded data removed]",
      "text/plain": [
       "<Figure size 432x288 with 1 Axes>"
      ]
     },
     "metadata": {
      "needs_background": "light"
     },
     "output_type": "display_data"
    }
   ],
   "source": [
    "sns.countplot(x = bank['housing'], data = bank, hue = 'loan', palette = 'Set2')\n",
    "plt.show()"
   ]
  },
  {
   "cell_type": "code",
   "execution_count": 24,
   "id": "9d5de7df",
   "metadata": {},
   "outputs": [
    {
     "data": {
      "image/png": "[encoded data removed]",
      "text/plain": [
       "<Figure size 432x288 with 1 Axes>"
      ]
     },
     "metadata": {
      "needs_background": "light"
     },
     "output_type": "display_data"
    }
   ],
   "source": [
    "sns.countplot(x = bank['contact'], data = bank, palette = 'Set1')\n",
    "plt.show()"
   ]
  },
  {
   "cell_type": "code",
   "execution_count": 25,
   "id": "01bde4e6",
   "metadata": {},
   "outputs": [
    {
     "data": {
      "text/html": [
       "<div>\n",
       "<style scoped>\n",
       "    .dataframe tbody tr th:only-of-type {\n",
       "        vertical-align: middle;\n",
       "    }\n",
       "\n",
       "    .dataframe tbody tr th {\n",
       "        vertical-align: top;\n",
       "    }\n",
       "\n",
       "    .dataframe thead th {\n",
       "        text-align: right;\n",
       "    }\n",
       "</style>\n",
       "<table border=\"1\" class=\"dataframe\">\n",
       "  <thead>\n",
       "    <tr style=\"text-align: right;\">\n",
       "      <th>poutcome</th>\n",
       "      <th>failure</th>\n",
       "      <th>nonexistent</th>\n",
       "      <th>success</th>\n",
       "    </tr>\n",
       "    <tr>\n",
       "      <th>contact</th>\n",
       "      <th></th>\n",
       "      <th></th>\n",
       "      <th></th>\n",
       "    </tr>\n",
       "  </thead>\n",
       "  <tbody>\n",
       "    <tr>\n",
       "      <th>cellular</th>\n",
       "      <td>3952</td>\n",
       "      <td>20913</td>\n",
       "      <td>1270</td>\n",
       "    </tr>\n",
       "    <tr>\n",
       "      <th>telephone</th>\n",
       "      <td>300</td>\n",
       "      <td>14638</td>\n",
       "      <td>103</td>\n",
       "    </tr>\n",
       "  </tbody>\n",
       "</table>\n",
       "</div>"
      ],
      "text/plain": [
       "poutcome   failure  nonexistent  success\n",
       "contact                                 \n",
       "cellular      3952        20913     1270\n",
       "telephone      300        14638      103"
      ]
     },
     "execution_count": 25,
     "metadata": {},
     "output_type": "execute_result"
    }
   ],
   "source": [
    "# chi square contact & poutcome to check whether keep contact or not\n",
    "ContactPoutcome = pd.crosstab(bank.contact, bank.poutcome, rownames=['contact'], colnames=['poutcome'])\n",
    "ContactPoutcome"
   ]
  },
  {
   "cell_type": "code",
   "execution_count": 26,
   "id": "d1a5dc6f",
   "metadata": {},
   "outputs": [
    {
     "name": "stdout",
     "output_type": "stream",
     "text": [
      "p value is 0.0\n",
      "Dependent (reject Ho)\n"
     ]
    }
   ],
   "source": [
    "from scipy.stats import chi2_contingency\n",
    "stat, p, dof, expected = chi2_contingency(ContactPoutcome)\n",
    "alpha = 0.05\n",
    "print(\"p value is \" + str(p))\n",
    "if p <= alpha:\n",
    "    print('Dependent (reject Ho)')\n",
    "else:\n",
    "    print('Independent (Ho holds true)')\n",
    "    \n",
    "# Since dependent, we'll keep the variable"
   ]
  },
  {
   "cell_type": "code",
   "execution_count": 27,
   "id": "1fbfbb3c",
   "metadata": {},
   "outputs": [
    {
     "data": {
      "text/plain": [
       "array(['may', 'jun', 'jul', 'aug', 'oct', 'nov', 'dec', 'mar', 'apr',\n",
       "       'sep'], dtype=object)"
      ]
     },
     "execution_count": 27,
     "metadata": {},
     "output_type": "execute_result"
    }
   ],
   "source": [
    "bank['month'].unique()"
   ]
  },
  {
   "cell_type": "code",
   "execution_count": 28,
   "id": "7b893a4a",
   "metadata": {},
   "outputs": [],
   "source": [
    "bank['month'] = bank['month'].replace(['mar'], 'Quarter1')\n",
    "\n",
    "bank['month'] = bank['month'].replace(['apr', 'may', 'jun'], 'Quarter2')\n",
    "\n",
    "bank['month'] = bank['month'].replace(['jul', 'aug', 'sep'], 'Quarter3')\n",
    "\n",
    "bank['month'] = bank['month'].replace(['oct', 'nov', 'dec'], 'Quarter4')"
   ]
  },
  {
   "cell_type": "code",
   "execution_count": 29,
   "id": "621271ab",
   "metadata": {},
   "outputs": [
    {
     "data": {
      "image/png": "[encoded data removed]",
      "text/plain": [
       "<Figure size 432x288 with 1 Axes>"
      ]
     },
     "metadata": {
      "needs_background": "light"
     },
     "output_type": "display_data"
    }
   ],
   "source": [
    "bank['month'].value_counts().plot(kind = 'barh', color = '#CAFF70', edgecolor = 'r')\n",
    "plt.xlabel('month')\n",
    "plt.ylabel('count')\n",
    "plt.show()"
   ]
  },
  {
   "cell_type": "code",
   "execution_count": 30,
   "id": "3c663df0",
   "metadata": {},
   "outputs": [
    {
     "data": {
      "image/png": "[encoded data removed]",
      "text/plain": [
       "<Figure size 432x432 with 1 Axes>"
      ]
     },
     "metadata": {},
     "output_type": "display_data"
    }
   ],
   "source": [
    "bank['poutcome'].value_counts().plot(kind = 'pie', autopct = '%0.2f%%', figsize = [6,6],\n",
    "                                    colors = ['#AB82FF', '#EE2C2C', '#FFC125'])\n",
    "plt.title('poutcome')\n",
    "plt.show()"
   ]
  },
  {
   "cell_type": "code",
   "execution_count": 31,
   "id": "be73d7f1",
   "metadata": {},
   "outputs": [
    {
     "data": {
      "image/png": "[encoded data removed]",
      "text/plain": [
       "<Figure size 432x288 with 1 Axes>"
      ]
     },
     "metadata": {
      "needs_background": "light"
     },
     "output_type": "display_data"
    }
   ],
   "source": [
    "sns.countplot(x = bank['poutcome'], data = bank, hue = 'y', palette = 'Accent')\n",
    "plt.show()"
   ]
  },
  {
   "cell_type": "code",
   "execution_count": 32,
   "id": "f38d92af",
   "metadata": {},
   "outputs": [
    {
     "data": {
      "text/plain": [
       "array(['mon', 'tue', 'wed', 'thu', 'fri'], dtype=object)"
      ]
     },
     "execution_count": 32,
     "metadata": {},
     "output_type": "execute_result"
    }
   ],
   "source": [
    "bank['day_of_week'].unique()"
   ]
  },
  {
   "cell_type": "code",
   "execution_count": 33,
   "id": "ed829097",
   "metadata": {},
   "outputs": [
    {
     "data": {
      "image/png": "[encoded data removed]",
      "text/plain": [
       "<Figure size 432x288 with 1 Axes>"
      ]
     },
     "metadata": {
      "needs_background": "light"
     },
     "output_type": "display_data"
    }
   ],
   "source": [
    "bank['day_of_week'].value_counts().plot(kind = 'bar', edgecolor = 'y')\n",
    "plt.show()"
   ]
  },
  {
   "cell_type": "markdown",
   "id": "03b52cff",
   "metadata": {},
   "source": [
    "As people are buying term deposits on any day of the week as counts are almost equal for all weekdays. Therefore, we can drop 'day_of_week' column."
   ]
  },
  {
   "cell_type": "code",
   "execution_count": 34,
   "id": "79ffe650",
   "metadata": {},
   "outputs": [],
   "source": [
    "bank.drop(['day_of_week'], axis = 1, inplace = True)"
   ]
  },
  {
   "cell_type": "markdown",
   "id": "936dc04d",
   "metadata": {},
   "source": [
    "#### Numerical Predictors"
   ]
  },
  {
   "cell_type": "code",
   "execution_count": 35,
   "id": "aeddf1f0",
   "metadata": {},
   "outputs": [
    {
     "data": {
      "text/plain": [
       "Index(['age', 'duration', 'campaign', 'pdays', 'previous', 'emp.var.rate',\n",
       "       'cons.price.idx', 'cons.conf.idx', 'euribor3m', 'nr.employed'],\n",
       "      dtype='object')"
      ]
     },
     "execution_count": 35,
     "metadata": {},
     "output_type": "execute_result"
    }
   ],
   "source": [
    "bank.dtypes[bank.dtypes != 'object'].index"
   ]
  },
  {
   "cell_type": "code",
   "execution_count": 36,
   "id": "aa41d8a3",
   "metadata": {},
   "outputs": [
    {
     "data": {
      "image/png": "[encoded data removed]",
      "text/plain": [
       "<Figure size 432x288 with 1 Axes>"
      ]
     },
     "metadata": {
      "needs_background": "light"
     },
     "output_type": "display_data"
    }
   ],
   "source": [
    "bank['age'].plot(kind = 'hist', y = 'Frequency', color = '#CD5C5C', edgecolor = 'y' )\n",
    "plt.xlabel('Age')\n",
    "plt.show()"
   ]
  },
  {
   "cell_type": "code",
   "execution_count": 37,
   "id": "9fd19297",
   "metadata": {},
   "outputs": [
    {
     "data": {
      "image/png": "[encoded data removed]",
      "text/plain": [
       "<Figure size 432x288 with 1 Axes>"
      ]
     },
     "metadata": {
      "needs_background": "light"
     },
     "output_type": "display_data"
    }
   ],
   "source": [
    "sns.boxplot(x = 'y', y = 'age', data = bank)\n",
    "plt.show()"
   ]
  },
  {
   "cell_type": "markdown",
   "id": "0d85f412",
   "metadata": {},
   "source": [
    "Boxplot for both the classes overlap quite a lot which means that age is not necessarily a good indicator for which customer will subscribe and which customer will not to term deposit."
   ]
  },
  {
   "cell_type": "code",
   "execution_count": 38,
   "id": "b265d2a8",
   "metadata": {},
   "outputs": [
    {
     "name": "stderr",
     "output_type": "stream",
     "text": [
      "C:\\Users\\Bushra Ansari\\anaconda3\\lib\\site-packages\\seaborn\\distributions.py:2619: FutureWarning: `distplot` is a deprecated function and will be removed in a future version. Please adapt your code to use either `displot` (a figure-level function with similar flexibility) or `histplot` (an axes-level function for histograms).\n",
      "  warnings.warn(msg, FutureWarning)\n"
     ]
    },
    {
     "data": {
      "text/plain": [
       "<AxesSubplot:xlabel='age', ylabel='Density'>"
      ]
     },
     "execution_count": 38,
     "metadata": {},
     "output_type": "execute_result"
    },
    {
     "data": {
      "image/png": "[encoded data removed]",
      "text/plain": [
       "<Figure size 432x288 with 1 Axes>"
      ]
     },
     "metadata": {
      "needs_background": "light"
     },
     "output_type": "display_data"
    }
   ],
   "source": [
    "sns.distplot(bank['age'])"
   ]
  },
  {
   "cell_type": "code",
   "execution_count": 39,
   "id": "d649147c",
   "metadata": {},
   "outputs": [
    {
     "data": {
      "image/png": "[encoded data removed]",
      "text/plain": [
       "<Figure size 360x360 with 1 Axes>"
      ]
     },
     "metadata": {
      "needs_background": "light"
     },
     "output_type": "display_data"
    }
   ],
   "source": [
    "sns.displot(bank['duration'])\n",
    "plt.show()"
   ]
  },
  {
   "cell_type": "code",
   "execution_count": 40,
   "id": "701f836f",
   "metadata": {},
   "outputs": [
    {
     "data": {
      "text/plain": [
       "1.366111111111111"
      ]
     },
     "execution_count": 40,
     "metadata": {},
     "output_type": "execute_result"
    }
   ],
   "source": [
    "bank['duration'].max()/60/60"
   ]
  },
  {
   "cell_type": "code",
   "execution_count": 41,
   "id": "fe4a313c",
   "metadata": {},
   "outputs": [
    {
     "data": {
      "text/plain": [
       "67239.24947519663"
      ]
     },
     "execution_count": 41,
     "metadata": {},
     "output_type": "execute_result"
    }
   ],
   "source": [
    "bank['duration'].var()"
   ]
  },
  {
   "cell_type": "code",
   "execution_count": 42,
   "id": "f5862921",
   "metadata": {},
   "outputs": [
    {
     "name": "stderr",
     "output_type": "stream",
     "text": [
      "C:\\Users\\Bushra Ansari\\anaconda3\\lib\\site-packages\\seaborn\\distributions.py:2619: FutureWarning: `distplot` is a deprecated function and will be removed in a future version. Please adapt your code to use either `displot` (a figure-level function with similar flexibility) or `histplot` (an axes-level function for histograms).\n",
      "  warnings.warn(msg, FutureWarning)\n"
     ]
    },
    {
     "data": {
      "image/png": "[encoded data removed]",
      "text/plain": [
       "<Figure size 432x288 with 1 Axes>"
      ]
     },
     "metadata": {
      "needs_background": "light"
     },
     "output_type": "display_data"
    }
   ],
   "source": [
    "sns.distplot(bank['campaign'])\n",
    "plt.show()"
   ]
  },
  {
   "cell_type": "code",
   "execution_count": 43,
   "id": "7bacfd20",
   "metadata": {},
   "outputs": [
    {
     "name": "stderr",
     "output_type": "stream",
     "text": [
      "C:\\Users\\Bushra Ansari\\anaconda3\\lib\\site-packages\\seaborn\\distributions.py:2619: FutureWarning: `distplot` is a deprecated function and will be removed in a future version. Please adapt your code to use either `displot` (a figure-level function with similar flexibility) or `histplot` (an axes-level function for histograms).\n",
      "  warnings.warn(msg, FutureWarning)\n"
     ]
    },
    {
     "data": {
      "image/png": "[encoded data removed]",
      "text/plain": [
       "<Figure size 432x288 with 1 Axes>"
      ]
     },
     "metadata": {
      "needs_background": "light"
     },
     "output_type": "display_data"
    }
   ],
   "source": [
    "sns.distplot(bank['pdays'])\n",
    "plt.show()"
   ]
  },
  {
   "cell_type": "code",
   "execution_count": 44,
   "id": "5648dbf3",
   "metadata": {},
   "outputs": [
    {
     "data": {
      "text/plain": [
       "array([999,   6,   4,   3,   5,   1,   0,  10,   7,   8,   9,  11,   2,\n",
       "        12,  13,  14,  15,  16,  21,  17,  18,  22,  25,  26,  19,  27,\n",
       "        20], dtype=int64)"
      ]
     },
     "execution_count": 44,
     "metadata": {},
     "output_type": "execute_result"
    }
   ],
   "source": [
    "bank['pdays'].unique()"
   ]
  },
  {
   "cell_type": "code",
   "execution_count": 45,
   "id": "88d20c47",
   "metadata": {},
   "outputs": [],
   "source": [
    "bank['recent_pdays'] = 1/ bank['pdays'] # Values divided by 1 so that recently called ones have big values and other has\n",
    "# small values for easy comparison\n",
    "\n",
    "bank.drop(columns = ['pdays'], inplace = True)"
   ]
  },
  {
   "cell_type": "code",
   "execution_count": 46,
   "id": "01a229e6",
   "metadata": {},
   "outputs": [
    {
     "data": {
      "text/plain": [
       "0.001001    39661\n",
       "0.333333      439\n",
       "0.166667      412\n",
       "0.250000      118\n",
       "0.111111       64\n",
       "0.500000       61\n",
       "0.142857       60\n",
       "0.083333       58\n",
       "0.100000       52\n",
       "0.200000       46\n",
       "0.076923       36\n",
       "0.090909       28\n",
       "1.000000       26\n",
       "0.066667       24\n",
       "0.071429       20\n",
       "0.125000       18\n",
       "inf            15\n",
       "0.062500       11\n",
       "0.058824        8\n",
       "0.055556        7\n",
       "0.045455        3\n",
       "0.052632        3\n",
       "0.047619        2\n",
       "0.040000        1\n",
       "0.038462        1\n",
       "0.037037        1\n",
       "0.050000        1\n",
       "Name: recent_pdays, dtype: int64"
      ]
     },
     "execution_count": 46,
     "metadata": {},
     "output_type": "execute_result"
    }
   ],
   "source": [
    "bank['recent_pdays'].value_counts()"
   ]
  },
  {
   "cell_type": "code",
   "execution_count": 47,
   "id": "b483e79b",
   "metadata": {},
   "outputs": [
    {
     "data": {
      "text/plain": [
       "array([0, 1, 2, 3, 4, 5, 6, 7], dtype=int64)"
      ]
     },
     "execution_count": 47,
     "metadata": {},
     "output_type": "execute_result"
    }
   ],
   "source": [
    "bank['previous'].unique()"
   ]
  },
  {
   "cell_type": "code",
   "execution_count": 48,
   "id": "15e075e9",
   "metadata": {},
   "outputs": [
    {
     "data": {
      "text/plain": [
       "0    35551\n",
       "1     4561\n",
       "2      754\n",
       "3      216\n",
       "4       70\n",
       "5       18\n",
       "6        5\n",
       "7        1\n",
       "Name: previous, dtype: int64"
      ]
     },
     "execution_count": 48,
     "metadata": {},
     "output_type": "execute_result"
    }
   ],
   "source": [
    "bank['previous'].value_counts()"
   ]
  },
  {
   "cell_type": "code",
   "execution_count": 49,
   "id": "7e2d0fcf",
   "metadata": {},
   "outputs": [
    {
     "data": {
      "text/plain": [
       " 1.4    16228\n",
       "-1.8     9182\n",
       " 1.1     7762\n",
       "-0.1     3682\n",
       "-2.9     1662\n",
       "-3.4     1070\n",
       "-1.7      773\n",
       "-1.1      635\n",
       "-3.0      172\n",
       "-0.2       10\n",
       "Name: emp.var.rate, dtype: int64"
      ]
     },
     "execution_count": 49,
     "metadata": {},
     "output_type": "execute_result"
    }
   ],
   "source": [
    "bank['emp.var.rate'].value_counts()"
   ]
  },
  {
   "cell_type": "code",
   "execution_count": 50,
   "id": "83bb7d75",
   "metadata": {},
   "outputs": [
    {
     "data": {
      "image/png": "[encoded data removed]",
      "text/plain": [
       "<Figure size 432x288 with 1 Axes>"
      ]
     },
     "metadata": {
      "needs_background": "light"
     },
     "output_type": "display_data"
    }
   ],
   "source": [
    "sns.boxplot(x = 'y', y = 'emp.var.rate', data = bank)\n",
    "plt.show()"
   ]
  },
  {
   "cell_type": "code",
   "execution_count": 51,
   "id": "e9c62f40",
   "metadata": {},
   "outputs": [
    {
     "name": "stderr",
     "output_type": "stream",
     "text": [
      "C:\\Users\\Bushra Ansari\\anaconda3\\lib\\site-packages\\seaborn\\distributions.py:2619: FutureWarning: `distplot` is a deprecated function and will be removed in a future version. Please adapt your code to use either `displot` (a figure-level function with similar flexibility) or `histplot` (an axes-level function for histograms).\n",
      "  warnings.warn(msg, FutureWarning)\n"
     ]
    },
    {
     "data": {
      "image/png": "[encoded data removed]",
      "text/plain": [
       "<Figure size 432x288 with 1 Axes>"
      ]
     },
     "metadata": {
      "needs_background": "light"
     },
     "output_type": "display_data"
    }
   ],
   "source": [
    "sns.distplot(bank['emp.var.rate'])\n",
    "plt.show()"
   ]
  },
  {
   "cell_type": "code",
   "execution_count": 52,
   "id": "b712e3e9",
   "metadata": {},
   "outputs": [
    {
     "data": {
      "image/png": "[encoded data removed]",
      "text/plain": [
       "<Figure size 432x288 with 1 Axes>"
      ]
     },
     "metadata": {
      "needs_background": "light"
     },
     "output_type": "display_data"
    }
   ],
   "source": [
    "sns.boxplot(x = 'y', y = 'euribor3m', data = bank)\n",
    "plt.show()"
   ]
  },
  {
   "cell_type": "markdown",
   "id": "67eefe68",
   "metadata": {},
   "source": [
    "#### Checking Correlation"
   ]
  },
  {
   "cell_type": "code",
   "execution_count": 53,
   "id": "45cb0456",
   "metadata": {},
   "outputs": [
    {
     "data": {
      "image/png": "[encoded data removed]",
      "text/plain": [
       "<Figure size 720x504 with 2 Axes>"
      ]
     },
     "metadata": {
      "needs_background": "light"
     },
     "output_type": "display_data"
    }
   ],
   "source": [
    "corr = bank.corr()\n",
    "plt.figure(figsize = [10,7])\n",
    "sns.heatmap(corr, annot = True, cmap = 'Spectral', fmt = '0.2f')\n",
    "plt.show()"
   ]
  },
  {
   "cell_type": "markdown",
   "id": "7d2445ad",
   "metadata": {},
   "source": [
    "The emp.var.rate, cons.price.idx, euribor3m and nr.employed features have very high correlation. With euribor3m and nr.employed having the highest correlation of 0.95."
   ]
  },
  {
   "cell_type": "markdown",
   "id": "c08708f5",
   "metadata": {},
   "source": [
    "#### Checking missing values"
   ]
  },
  {
   "cell_type": "code",
   "execution_count": 54,
   "id": "22de3a04",
   "metadata": {},
   "outputs": [
    {
     "data": {
      "text/html": [
       "<div>\n",
       "<style scoped>\n",
       "    .dataframe tbody tr th:only-of-type {\n",
       "        vertical-align: middle;\n",
       "    }\n",
       "\n",
       "    .dataframe tbody tr th {\n",
       "        vertical-align: top;\n",
       "    }\n",
       "\n",
       "    .dataframe thead th {\n",
       "        text-align: right;\n",
       "    }\n",
       "</style>\n",
       "<table border=\"1\" class=\"dataframe\">\n",
       "  <thead>\n",
       "    <tr style=\"text-align: right;\">\n",
       "      <th></th>\n",
       "      <th>Missing</th>\n",
       "      <th>Percentage</th>\n",
       "    </tr>\n",
       "  </thead>\n",
       "  <tbody>\n",
       "  </tbody>\n",
       "</table>\n",
       "</div>"
      ],
      "text/plain": [
       "Empty DataFrame\n",
       "Columns: [Missing, Percentage]\n",
       "Index: []"
      ]
     },
     "execution_count": 54,
     "metadata": {},
     "output_type": "execute_result"
    }
   ],
   "source": [
    "def missingValues(data):\n",
    "    m=data.isnull().sum()\n",
    "    md=(data.isnull().sum()/ data.shape[0]*100)\n",
    "    df=pd.concat([m, md], axis=1, keys=[\"Missing\", \"Percentage\"])\n",
    "    fg=df.sort_values(by =\"Percentage\", ascending=False)\n",
    "    fg1=fg[fg[\"Percentage\"]>0]\n",
    "    return fg1\n",
    "\n",
    "missingValues(bank)"
   ]
  },
  {
   "cell_type": "markdown",
   "id": "6318b3c5",
   "metadata": {},
   "source": [
    "No missing values."
   ]
  },
  {
   "cell_type": "markdown",
   "id": "15917af0",
   "metadata": {},
   "source": [
    "#### Checking Outliers"
   ]
  },
  {
   "cell_type": "code",
   "execution_count": 55,
   "id": "52c19db1",
   "metadata": {},
   "outputs": [
    {
     "data": {
      "text/html": [
       "<div>\n",
       "<style scoped>\n",
       "    .dataframe tbody tr th:only-of-type {\n",
       "        vertical-align: middle;\n",
       "    }\n",
       "\n",
       "    .dataframe tbody tr th {\n",
       "        vertical-align: top;\n",
       "    }\n",
       "\n",
       "    .dataframe thead th {\n",
       "        text-align: right;\n",
       "    }\n",
       "</style>\n",
       "<table border=\"1\" class=\"dataframe\">\n",
       "  <thead>\n",
       "    <tr style=\"text-align: right;\">\n",
       "      <th></th>\n",
       "      <th>count</th>\n",
       "      <th>mean</th>\n",
       "      <th>std</th>\n",
       "      <th>min</th>\n",
       "      <th>1%</th>\n",
       "      <th>2%</th>\n",
       "      <th>3%</th>\n",
       "      <th>4%</th>\n",
       "      <th>5%</th>\n",
       "      <th>10%</th>\n",
       "      <th>25%</th>\n",
       "      <th>50%</th>\n",
       "      <th>75%</th>\n",
       "      <th>90%</th>\n",
       "      <th>95%</th>\n",
       "      <th>96%</th>\n",
       "      <th>97%</th>\n",
       "      <th>98%</th>\n",
       "      <th>99%</th>\n",
       "      <th>max</th>\n",
       "    </tr>\n",
       "  </thead>\n",
       "  <tbody>\n",
       "    <tr>\n",
       "      <th>age</th>\n",
       "      <td>41176.0</td>\n",
       "      <td>40.023800</td>\n",
       "      <td>10.420680</td>\n",
       "      <td>17.000000</td>\n",
       "      <td>23.000000</td>\n",
       "      <td>24.000000</td>\n",
       "      <td>25.000000</td>\n",
       "      <td>25.000000</td>\n",
       "      <td>26.000000</td>\n",
       "      <td>28.000000</td>\n",
       "      <td>32.000000</td>\n",
       "      <td>38.000000</td>\n",
       "      <td>47.000000</td>\n",
       "      <td>55.000000</td>\n",
       "      <td>58.000000</td>\n",
       "      <td>59.000000</td>\n",
       "      <td>59.000000</td>\n",
       "      <td>62.000000</td>\n",
       "      <td>71.000000</td>\n",
       "      <td>98.000</td>\n",
       "    </tr>\n",
       "    <tr>\n",
       "      <th>duration</th>\n",
       "      <td>41176.0</td>\n",
       "      <td>258.315815</td>\n",
       "      <td>259.305321</td>\n",
       "      <td>0.000000</td>\n",
       "      <td>11.000000</td>\n",
       "      <td>17.000000</td>\n",
       "      <td>23.000000</td>\n",
       "      <td>29.000000</td>\n",
       "      <td>36.000000</td>\n",
       "      <td>59.000000</td>\n",
       "      <td>102.000000</td>\n",
       "      <td>180.000000</td>\n",
       "      <td>319.000000</td>\n",
       "      <td>551.000000</td>\n",
       "      <td>753.000000</td>\n",
       "      <td>821.000000</td>\n",
       "      <td>911.000000</td>\n",
       "      <td>1052.500000</td>\n",
       "      <td>1271.250000</td>\n",
       "      <td>4918.000</td>\n",
       "    </tr>\n",
       "    <tr>\n",
       "      <th>campaign</th>\n",
       "      <td>41176.0</td>\n",
       "      <td>2.567879</td>\n",
       "      <td>2.770318</td>\n",
       "      <td>1.000000</td>\n",
       "      <td>1.000000</td>\n",
       "      <td>1.000000</td>\n",
       "      <td>1.000000</td>\n",
       "      <td>1.000000</td>\n",
       "      <td>1.000000</td>\n",
       "      <td>1.000000</td>\n",
       "      <td>1.000000</td>\n",
       "      <td>2.000000</td>\n",
       "      <td>3.000000</td>\n",
       "      <td>5.000000</td>\n",
       "      <td>7.000000</td>\n",
       "      <td>8.000000</td>\n",
       "      <td>9.000000</td>\n",
       "      <td>11.000000</td>\n",
       "      <td>14.000000</td>\n",
       "      <td>56.000</td>\n",
       "    </tr>\n",
       "    <tr>\n",
       "      <th>previous</th>\n",
       "      <td>41176.0</td>\n",
       "      <td>0.173013</td>\n",
       "      <td>0.494964</td>\n",
       "      <td>0.000000</td>\n",
       "      <td>0.000000</td>\n",
       "      <td>0.000000</td>\n",
       "      <td>0.000000</td>\n",
       "      <td>0.000000</td>\n",
       "      <td>0.000000</td>\n",
       "      <td>0.000000</td>\n",
       "      <td>0.000000</td>\n",
       "      <td>0.000000</td>\n",
       "      <td>0.000000</td>\n",
       "      <td>1.000000</td>\n",
       "      <td>1.000000</td>\n",
       "      <td>1.000000</td>\n",
       "      <td>1.000000</td>\n",
       "      <td>2.000000</td>\n",
       "      <td>2.000000</td>\n",
       "      <td>7.000</td>\n",
       "    </tr>\n",
       "    <tr>\n",
       "      <th>emp.var.rate</th>\n",
       "      <td>41176.0</td>\n",
       "      <td>0.081922</td>\n",
       "      <td>1.570883</td>\n",
       "      <td>-3.400000</td>\n",
       "      <td>-3.400000</td>\n",
       "      <td>-3.400000</td>\n",
       "      <td>-3.000000</td>\n",
       "      <td>-2.900000</td>\n",
       "      <td>-2.900000</td>\n",
       "      <td>-1.800000</td>\n",
       "      <td>-1.800000</td>\n",
       "      <td>1.100000</td>\n",
       "      <td>1.400000</td>\n",
       "      <td>1.400000</td>\n",
       "      <td>1.400000</td>\n",
       "      <td>1.400000</td>\n",
       "      <td>1.400000</td>\n",
       "      <td>1.400000</td>\n",
       "      <td>1.400000</td>\n",
       "      <td>1.400</td>\n",
       "    </tr>\n",
       "    <tr>\n",
       "      <th>cons.price.idx</th>\n",
       "      <td>41176.0</td>\n",
       "      <td>93.575720</td>\n",
       "      <td>0.578839</td>\n",
       "      <td>92.201000</td>\n",
       "      <td>92.201000</td>\n",
       "      <td>92.379000</td>\n",
       "      <td>92.431000</td>\n",
       "      <td>92.469000</td>\n",
       "      <td>92.713000</td>\n",
       "      <td>92.893000</td>\n",
       "      <td>93.075000</td>\n",
       "      <td>93.749000</td>\n",
       "      <td>93.994000</td>\n",
       "      <td>94.465000</td>\n",
       "      <td>94.465000</td>\n",
       "      <td>94.465000</td>\n",
       "      <td>94.465000</td>\n",
       "      <td>94.465000</td>\n",
       "      <td>94.465000</td>\n",
       "      <td>94.767</td>\n",
       "    </tr>\n",
       "    <tr>\n",
       "      <th>cons.conf.idx</th>\n",
       "      <td>41176.0</td>\n",
       "      <td>-40.502863</td>\n",
       "      <td>4.627860</td>\n",
       "      <td>-50.800000</td>\n",
       "      <td>-49.500000</td>\n",
       "      <td>-47.100000</td>\n",
       "      <td>-47.100000</td>\n",
       "      <td>-47.100000</td>\n",
       "      <td>-47.100000</td>\n",
       "      <td>-46.200000</td>\n",
       "      <td>-42.700000</td>\n",
       "      <td>-41.800000</td>\n",
       "      <td>-36.400000</td>\n",
       "      <td>-36.100000</td>\n",
       "      <td>-33.600000</td>\n",
       "      <td>-31.400000</td>\n",
       "      <td>-31.400000</td>\n",
       "      <td>-30.100000</td>\n",
       "      <td>-26.900000</td>\n",
       "      <td>-26.900</td>\n",
       "    </tr>\n",
       "    <tr>\n",
       "      <th>euribor3m</th>\n",
       "      <td>41176.0</td>\n",
       "      <td>3.621293</td>\n",
       "      <td>1.734437</td>\n",
       "      <td>0.634000</td>\n",
       "      <td>0.658000</td>\n",
       "      <td>0.714000</td>\n",
       "      <td>0.720000</td>\n",
       "      <td>0.740000</td>\n",
       "      <td>0.797000</td>\n",
       "      <td>1.046000</td>\n",
       "      <td>1.344000</td>\n",
       "      <td>4.857000</td>\n",
       "      <td>4.961000</td>\n",
       "      <td>4.964000</td>\n",
       "      <td>4.966000</td>\n",
       "      <td>4.967000</td>\n",
       "      <td>4.967000</td>\n",
       "      <td>4.968000</td>\n",
       "      <td>4.968000</td>\n",
       "      <td>5.045</td>\n",
       "    </tr>\n",
       "    <tr>\n",
       "      <th>nr.employed</th>\n",
       "      <td>41176.0</td>\n",
       "      <td>5167.017972</td>\n",
       "      <td>72.177913</td>\n",
       "      <td>4964.000000</td>\n",
       "      <td>4964.000000</td>\n",
       "      <td>4992.000000</td>\n",
       "      <td>4992.000000</td>\n",
       "      <td>5009.000000</td>\n",
       "      <td>5018.000000</td>\n",
       "      <td>5076.000000</td>\n",
       "      <td>5099.000000</td>\n",
       "      <td>5191.000000</td>\n",
       "      <td>5228.000000</td>\n",
       "      <td>5228.000000</td>\n",
       "      <td>5228.000000</td>\n",
       "      <td>5228.000000</td>\n",
       "      <td>5228.000000</td>\n",
       "      <td>5228.000000</td>\n",
       "      <td>5228.000000</td>\n",
       "      <td>5228.000</td>\n",
       "    </tr>\n",
       "    <tr>\n",
       "      <th>recent_pdays</th>\n",
       "      <td>41176.0</td>\n",
       "      <td>inf</td>\n",
       "      <td>NaN</td>\n",
       "      <td>0.001001</td>\n",
       "      <td>0.001001</td>\n",
       "      <td>0.001001</td>\n",
       "      <td>0.001001</td>\n",
       "      <td>0.001001</td>\n",
       "      <td>0.001001</td>\n",
       "      <td>0.001001</td>\n",
       "      <td>0.001001</td>\n",
       "      <td>0.001001</td>\n",
       "      <td>0.001001</td>\n",
       "      <td>0.001001</td>\n",
       "      <td>0.001001</td>\n",
       "      <td>0.001001</td>\n",
       "      <td>0.111111</td>\n",
       "      <td>0.166667</td>\n",
       "      <td>0.333333</td>\n",
       "      <td>inf</td>\n",
       "    </tr>\n",
       "  </tbody>\n",
       "</table>\n",
       "</div>"
      ],
      "text/plain": [
       "                  count         mean         std          min           1%  \\\n",
       "age             41176.0    40.023800   10.420680    17.000000    23.000000   \n",
       "duration        41176.0   258.315815  259.305321     0.000000    11.000000   \n",
       "campaign        41176.0     2.567879    2.770318     1.000000     1.000000   \n",
       "previous        41176.0     0.173013    0.494964     0.000000     0.000000   \n",
       "emp.var.rate    41176.0     0.081922    1.570883    -3.400000    -3.400000   \n",
       "cons.price.idx  41176.0    93.575720    0.578839    92.201000    92.201000   \n",
       "cons.conf.idx   41176.0   -40.502863    4.627860   -50.800000   -49.500000   \n",
       "euribor3m       41176.0     3.621293    1.734437     0.634000     0.658000   \n",
       "nr.employed     41176.0  5167.017972   72.177913  4964.000000  4964.000000   \n",
       "recent_pdays    41176.0          inf         NaN     0.001001     0.001001   \n",
       "\n",
       "                         2%           3%           4%           5%  \\\n",
       "age               24.000000    25.000000    25.000000    26.000000   \n",
       "duration          17.000000    23.000000    29.000000    36.000000   \n",
       "campaign           1.000000     1.000000     1.000000     1.000000   \n",
       "previous           0.000000     0.000000     0.000000     0.000000   \n",
       "emp.var.rate      -3.400000    -3.000000    -2.900000    -2.900000   \n",
       "cons.price.idx    92.379000    92.431000    92.469000    92.713000   \n",
       "cons.conf.idx    -47.100000   -47.100000   -47.100000   -47.100000   \n",
       "euribor3m          0.714000     0.720000     0.740000     0.797000   \n",
       "nr.employed     4992.000000  4992.000000  5009.000000  5018.000000   \n",
       "recent_pdays       0.001001     0.001001     0.001001     0.001001   \n",
       "\n",
       "                        10%          25%          50%          75%  \\\n",
       "age               28.000000    32.000000    38.000000    47.000000   \n",
       "duration          59.000000   102.000000   180.000000   319.000000   \n",
       "campaign           1.000000     1.000000     2.000000     3.000000   \n",
       "previous           0.000000     0.000000     0.000000     0.000000   \n",
       "emp.var.rate      -1.800000    -1.800000     1.100000     1.400000   \n",
       "cons.price.idx    92.893000    93.075000    93.749000    93.994000   \n",
       "cons.conf.idx    -46.200000   -42.700000   -41.800000   -36.400000   \n",
       "euribor3m          1.046000     1.344000     4.857000     4.961000   \n",
       "nr.employed     5076.000000  5099.000000  5191.000000  5228.000000   \n",
       "recent_pdays       0.001001     0.001001     0.001001     0.001001   \n",
       "\n",
       "                        90%          95%          96%          97%  \\\n",
       "age               55.000000    58.000000    59.000000    59.000000   \n",
       "duration         551.000000   753.000000   821.000000   911.000000   \n",
       "campaign           5.000000     7.000000     8.000000     9.000000   \n",
       "previous           1.000000     1.000000     1.000000     1.000000   \n",
       "emp.var.rate       1.400000     1.400000     1.400000     1.400000   \n",
       "cons.price.idx    94.465000    94.465000    94.465000    94.465000   \n",
       "cons.conf.idx    -36.100000   -33.600000   -31.400000   -31.400000   \n",
       "euribor3m          4.964000     4.966000     4.967000     4.967000   \n",
       "nr.employed     5228.000000  5228.000000  5228.000000  5228.000000   \n",
       "recent_pdays       0.001001     0.001001     0.001001     0.111111   \n",
       "\n",
       "                        98%          99%       max  \n",
       "age               62.000000    71.000000    98.000  \n",
       "duration        1052.500000  1271.250000  4918.000  \n",
       "campaign          11.000000    14.000000    56.000  \n",
       "previous           2.000000     2.000000     7.000  \n",
       "emp.var.rate       1.400000     1.400000     1.400  \n",
       "cons.price.idx    94.465000    94.465000    94.767  \n",
       "cons.conf.idx    -30.100000   -26.900000   -26.900  \n",
       "euribor3m          4.968000     4.968000     5.045  \n",
       "nr.employed     5228.000000  5228.000000  5228.000  \n",
       "recent_pdays       0.166667     0.333333       inf  "
      ]
     },
     "execution_count": 55,
     "metadata": {},
     "output_type": "execute_result"
    }
   ],
   "source": [
    "bank.describe(percentiles = [0.01,0.02,0.03,0.04,0.05,0.1,0.25,0.50,0.75,0.9,0.95,0.96,0.97,0.98,0.99]).T"
   ]
  },
  {
   "cell_type": "markdown",
   "id": "2185bba3",
   "metadata": {},
   "source": [
    "#### Outliers Treatment"
   ]
  },
  {
   "cell_type": "code",
   "execution_count": 56,
   "id": "2d3b0e7f",
   "metadata": {},
   "outputs": [],
   "source": [
    "def outliers(x):\n",
    "    x=x.clip(upper=x.quantile(.99))\n",
    "    x=x.clip(lower=x.quantile(.01))\n",
    "    return x "
   ]
  },
  {
   "cell_type": "code",
   "execution_count": 57,
   "id": "b80750e7",
   "metadata": {},
   "outputs": [],
   "source": [
    "numerical_var = bank.dtypes[bank.dtypes != \"object\"].index\n",
    "data_num = bank[numerical_var]"
   ]
  },
  {
   "cell_type": "code",
   "execution_count": 58,
   "id": "b8de8c97",
   "metadata": {},
   "outputs": [],
   "source": [
    "data_num1 = data_num.apply(lambda x : outliers(x))"
   ]
  },
  {
   "cell_type": "code",
   "execution_count": 59,
   "id": "e3b46bf7",
   "metadata": {},
   "outputs": [],
   "source": [
    "categorical_var = bank.dtypes[bank.dtypes == \"object\"].index\n",
    "data_cat = bank[categorical_var]"
   ]
  },
  {
   "cell_type": "code",
   "execution_count": 60,
   "id": "0c6ce0fe",
   "metadata": {},
   "outputs": [],
   "source": [
    "bank1 = pd.concat([data_cat, data_num1], axis = 1)"
   ]
  },
  {
   "cell_type": "markdown",
   "id": "ef99ff10",
   "metadata": {},
   "source": [
    "#### Creating Dummies"
   ]
  },
  {
   "cell_type": "code",
   "execution_count": 61,
   "id": "3e8ca6c9",
   "metadata": {},
   "outputs": [
    {
     "data": {
      "text/plain": [
       "(41176, 20)"
      ]
     },
     "execution_count": 61,
     "metadata": {},
     "output_type": "execute_result"
    }
   ],
   "source": [
    "bank1.shape"
   ]
  },
  {
   "cell_type": "code",
   "execution_count": 62,
   "id": "f8a78c02",
   "metadata": {},
   "outputs": [],
   "source": [
    "cleaned_bank = pd.get_dummies(bank1, drop_first=True)"
   ]
  },
  {
   "cell_type": "code",
   "execution_count": 63,
   "id": "d7fc90c9",
   "metadata": {},
   "outputs": [
    {
     "data": {
      "text/plain": [
       "(41176, 35)"
      ]
     },
     "execution_count": 63,
     "metadata": {},
     "output_type": "execute_result"
    }
   ],
   "source": [
    "cleaned_bank.shape"
   ]
  },
  {
   "cell_type": "code",
   "execution_count": 64,
   "id": "1ea5a0cc",
   "metadata": {},
   "outputs": [
    {
     "data": {
      "text/plain": [
       "Index(['age', 'duration', 'campaign', 'previous', 'emp.var.rate',\n",
       "       'cons.price.idx', 'cons.conf.idx', 'euribor3m', 'nr.employed',\n",
       "       'recent_pdays', 'job_Pink-collar', 'job_Self-depend',\n",
       "       'job_White-collar', 'job_blue-collar', 'job_technician',\n",
       "       'marital_married', 'marital_single', 'marital_unknown',\n",
       "       'education_primary', 'education_secondary', 'education_teritary',\n",
       "       'education_unknown', 'default_unknown', 'default_yes',\n",
       "       'housing_unknown', 'housing_yes', 'loan_unknown', 'loan_yes',\n",
       "       'contact_telephone', 'month_Quarter2', 'month_Quarter3',\n",
       "       'month_Quarter4', 'poutcome_nonexistent', 'poutcome_success', 'y_1'],\n",
       "      dtype='object')"
      ]
     },
     "execution_count": 64,
     "metadata": {},
     "output_type": "execute_result"
    }
   ],
   "source": [
    "cleaned_bank.columns"
   ]
  },
  {
   "cell_type": "code",
   "execution_count": 65,
   "id": "e826db6e",
   "metadata": {},
   "outputs": [
    {
     "data": {
      "text/plain": [
       "0    0.887337\n",
       "1    0.112663\n",
       "Name: y, dtype: float64"
      ]
     },
     "execution_count": 65,
     "metadata": {},
     "output_type": "execute_result"
    }
   ],
   "source": [
    "bank['y'].value_counts(normalize=True)\n",
    "#Imbalanced data problem"
   ]
  },
  {
   "cell_type": "code",
   "execution_count": 66,
   "id": "5c2c9676",
   "metadata": {},
   "outputs": [],
   "source": [
    "x = cleaned_bank.drop(columns = ['y_1'])\n",
    "y = cleaned_bank['y_1']"
   ]
  },
  {
   "cell_type": "code",
   "execution_count": 67,
   "id": "3b4e9775",
   "metadata": {},
   "outputs": [],
   "source": [
    "x_train, x_test, y_train, y_test = train_test_split(x,y, test_size=0.2, random_state=0)"
   ]
  },
  {
   "cell_type": "markdown",
   "id": "1d635b77",
   "metadata": {},
   "source": [
    "#### Feature Scaling"
   ]
  },
  {
   "cell_type": "code",
   "execution_count": 68,
   "id": "2e3fe369",
   "metadata": {},
   "outputs": [],
   "source": [
    "sc = StandardScaler()\n",
    "sc_fit = sc.fit(x_train)\n",
    "\n",
    "x_train_sc = sc_fit.transform(x_train)\n",
    "x_test_sc = sc_fit.transform(x_test)"
   ]
  },
  {
   "cell_type": "code",
   "execution_count": 69,
   "id": "9c1b8fcf",
   "metadata": {},
   "outputs": [],
   "source": [
    "x_train_sc_df = pd.DataFrame(x_train_sc, columns=x_train.columns)\n",
    "x_test_sc_df = pd.DataFrame(x_test_sc, columns=x_test.columns)"
   ]
  },
  {
   "cell_type": "code",
   "execution_count": 72,
   "id": "e8a6e7fb",
   "metadata": {},
   "outputs": [
    {
     "name": "stderr",
     "output_type": "stream",
     "text": [
      "C:\\Users\\Bushra Ansari\\anaconda3\\lib\\site-packages\\statsmodels\\stats\\outliers_influence.py:193: RuntimeWarning: divide by zero encountered in double_scalars\n",
      "  vif = 1. / (1. - r_squared_i)\n"
     ]
    }
   ],
   "source": [
    "from statsmodels.stats.outliers_influence import variance_inflation_factor\n",
    "vif_data = pd.DataFrame()\n",
    "vif_data['Var'] = x_train_sc_df.columns\n",
    "vif_data['VIF'] = [variance_inflation_factor(x_train_sc_df.values, i) for i in range(len(x_train_sc_df.columns))]"
   ]
  },
  {
   "cell_type": "code",
   "execution_count": 73,
   "id": "314a8709",
   "metadata": {},
   "outputs": [
    {
     "data": {
      "text/html": [
       "<div>\n",
       "<style scoped>\n",
       "    .dataframe tbody tr th:only-of-type {\n",
       "        vertical-align: middle;\n",
       "    }\n",
       "\n",
       "    .dataframe tbody tr th {\n",
       "        vertical-align: top;\n",
       "    }\n",
       "\n",
       "    .dataframe thead th {\n",
       "        text-align: right;\n",
       "    }\n",
       "</style>\n",
       "<table border=\"1\" class=\"dataframe\">\n",
       "  <thead>\n",
       "    <tr style=\"text-align: right;\">\n",
       "      <th></th>\n",
       "      <th>Var</th>\n",
       "      <th>VIF</th>\n",
       "    </tr>\n",
       "  </thead>\n",
       "  <tbody>\n",
       "    <tr>\n",
       "      <th>24</th>\n",
       "      <td>housing_unknown</td>\n",
       "      <td>inf</td>\n",
       "    </tr>\n",
       "    <tr>\n",
       "      <th>26</th>\n",
       "      <td>loan_unknown</td>\n",
       "      <td>inf</td>\n",
       "    </tr>\n",
       "    <tr>\n",
       "      <th>20</th>\n",
       "      <td>education_teritary</td>\n",
       "      <td>576.238703</td>\n",
       "    </tr>\n",
       "    <tr>\n",
       "      <th>18</th>\n",
       "      <td>education_primary</td>\n",
       "      <td>498.932665</td>\n",
       "    </tr>\n",
       "    <tr>\n",
       "      <th>19</th>\n",
       "      <td>education_secondary</td>\n",
       "      <td>419.931599</td>\n",
       "    </tr>\n",
       "    <tr>\n",
       "      <th>7</th>\n",
       "      <td>euribor3m</td>\n",
       "      <td>129.870843</td>\n",
       "    </tr>\n",
       "    <tr>\n",
       "      <th>21</th>\n",
       "      <td>education_unknown</td>\n",
       "      <td>94.465111</td>\n",
       "    </tr>\n",
       "    <tr>\n",
       "      <th>4</th>\n",
       "      <td>emp.var.rate</td>\n",
       "      <td>63.838491</td>\n",
       "    </tr>\n",
       "    <tr>\n",
       "      <th>8</th>\n",
       "      <td>nr.employed</td>\n",
       "      <td>41.323692</td>\n",
       "    </tr>\n",
       "    <tr>\n",
       "      <th>29</th>\n",
       "      <td>month_Quarter2</td>\n",
       "      <td>20.674980</td>\n",
       "    </tr>\n",
       "    <tr>\n",
       "      <th>30</th>\n",
       "      <td>month_Quarter3</td>\n",
       "      <td>19.530615</td>\n",
       "    </tr>\n",
       "    <tr>\n",
       "      <th>3</th>\n",
       "      <td>previous</td>\n",
       "      <td>10.995304</td>\n",
       "    </tr>\n",
       "    <tr>\n",
       "      <th>31</th>\n",
       "      <td>month_Quarter4</td>\n",
       "      <td>10.378662</td>\n",
       "    </tr>\n",
       "    <tr>\n",
       "      <th>32</th>\n",
       "      <td>poutcome_nonexistent</td>\n",
       "      <td>10.135024</td>\n",
       "    </tr>\n",
       "    <tr>\n",
       "      <th>5</th>\n",
       "      <td>cons.price.idx</td>\n",
       "      <td>9.618097</td>\n",
       "    </tr>\n",
       "    <tr>\n",
       "      <th>33</th>\n",
       "      <td>poutcome_success</td>\n",
       "      <td>5.827111</td>\n",
       "    </tr>\n",
       "    <tr>\n",
       "      <th>9</th>\n",
       "      <td>recent_pdays</td>\n",
       "      <td>5.782328</td>\n",
       "    </tr>\n",
       "    <tr>\n",
       "      <th>6</th>\n",
       "      <td>cons.conf.idx</td>\n",
       "      <td>3.787314</td>\n",
       "    </tr>\n",
       "    <tr>\n",
       "      <th>12</th>\n",
       "      <td>job_White-collar</td>\n",
       "      <td>3.404962</td>\n",
       "    </tr>\n",
       "    <tr>\n",
       "      <th>28</th>\n",
       "      <td>contact_telephone</td>\n",
       "      <td>3.297844</td>\n",
       "    </tr>\n",
       "    <tr>\n",
       "      <th>13</th>\n",
       "      <td>job_blue-collar</td>\n",
       "      <td>3.183498</td>\n",
       "    </tr>\n",
       "    <tr>\n",
       "      <th>16</th>\n",
       "      <td>marital_single</td>\n",
       "      <td>2.876904</td>\n",
       "    </tr>\n",
       "    <tr>\n",
       "      <th>14</th>\n",
       "      <td>job_technician</td>\n",
       "      <td>2.663165</td>\n",
       "    </tr>\n",
       "    <tr>\n",
       "      <th>15</th>\n",
       "      <td>marital_married</td>\n",
       "      <td>2.579060</td>\n",
       "    </tr>\n",
       "    <tr>\n",
       "      <th>10</th>\n",
       "      <td>job_Pink-collar</td>\n",
       "      <td>2.223338</td>\n",
       "    </tr>\n",
       "    <tr>\n",
       "      <th>11</th>\n",
       "      <td>job_Self-depend</td>\n",
       "      <td>1.741412</td>\n",
       "    </tr>\n",
       "    <tr>\n",
       "      <th>0</th>\n",
       "      <td>age</td>\n",
       "      <td>1.361938</td>\n",
       "    </tr>\n",
       "    <tr>\n",
       "      <th>22</th>\n",
       "      <td>default_unknown</td>\n",
       "      <td>1.142598</td>\n",
       "    </tr>\n",
       "    <tr>\n",
       "      <th>2</th>\n",
       "      <td>campaign</td>\n",
       "      <td>1.048820</td>\n",
       "    </tr>\n",
       "    <tr>\n",
       "      <th>25</th>\n",
       "      <td>housing_yes</td>\n",
       "      <td>1.040936</td>\n",
       "    </tr>\n",
       "    <tr>\n",
       "      <th>17</th>\n",
       "      <td>marital_unknown</td>\n",
       "      <td>1.019166</td>\n",
       "    </tr>\n",
       "    <tr>\n",
       "      <th>1</th>\n",
       "      <td>duration</td>\n",
       "      <td>1.015416</td>\n",
       "    </tr>\n",
       "    <tr>\n",
       "      <th>27</th>\n",
       "      <td>loan_yes</td>\n",
       "      <td>1.007758</td>\n",
       "    </tr>\n",
       "    <tr>\n",
       "      <th>23</th>\n",
       "      <td>default_yes</td>\n",
       "      <td>1.000817</td>\n",
       "    </tr>\n",
       "  </tbody>\n",
       "</table>\n",
       "</div>"
      ],
      "text/plain": [
       "                     Var         VIF\n",
       "24       housing_unknown         inf\n",
       "26          loan_unknown         inf\n",
       "20    education_teritary  576.238703\n",
       "18     education_primary  498.932665\n",
       "19   education_secondary  419.931599\n",
       "7              euribor3m  129.870843\n",
       "21     education_unknown   94.465111\n",
       "4           emp.var.rate   63.838491\n",
       "8            nr.employed   41.323692\n",
       "29        month_Quarter2   20.674980\n",
       "30        month_Quarter3   19.530615\n",
       "3               previous   10.995304\n",
       "31        month_Quarter4   10.378662\n",
       "32  poutcome_nonexistent   10.135024\n",
       "5         cons.price.idx    9.618097\n",
       "33      poutcome_success    5.827111\n",
       "9           recent_pdays    5.782328\n",
       "6          cons.conf.idx    3.787314\n",
       "12      job_White-collar    3.404962\n",
       "28     contact_telephone    3.297844\n",
       "13       job_blue-collar    3.183498\n",
       "16        marital_single    2.876904\n",
       "14        job_technician    2.663165\n",
       "15       marital_married    2.579060\n",
       "10       job_Pink-collar    2.223338\n",
       "11       job_Self-depend    1.741412\n",
       "0                    age    1.361938\n",
       "22       default_unknown    1.142598\n",
       "2               campaign    1.048820\n",
       "25           housing_yes    1.040936\n",
       "17       marital_unknown    1.019166\n",
       "1               duration    1.015416\n",
       "27              loan_yes    1.007758\n",
       "23           default_yes    1.000817"
      ]
     },
     "execution_count": 73,
     "metadata": {},
     "output_type": "execute_result"
    }
   ],
   "source": [
    "vif_data.sort_values(by = ['VIF'], ascending = False)"
   ]
  },
  {
   "cell_type": "markdown",
   "id": "c7c93d9a",
   "metadata": {},
   "source": [
    "#### Imbalanced Data Treatment with RandomUnderSampler"
   ]
  },
  {
   "cell_type": "code",
   "execution_count": 71,
   "id": "80975029",
   "metadata": {},
   "outputs": [
    {
     "name": "stdout",
     "output_type": "stream",
     "text": [
      "Requirement already satisfied: imblearn in c:\\users\\bushra ansari\\anaconda3\\lib\\site-packages (0.0)\n",
      "Requirement already satisfied: imbalanced-learn in c:\\users\\bushra ansari\\anaconda3\\lib\\site-packages (from imblearn) (0.9.0)\n",
      "Requirement already satisfied: numpy>=1.14.6 in c:\\users\\bushra ansari\\anaconda3\\lib\\site-packages (from imbalanced-learn->imblearn) (1.20.3)\n",
      "Requirement already satisfied: scikit-learn>=1.0.1 in c:\\users\\bushra ansari\\anaconda3\\lib\\site-packages (from imbalanced-learn->imblearn) (1.0.2)\n",
      "Requirement already satisfied: scipy>=1.1.0 in c:\\users\\bushra ansari\\anaconda3\\lib\\site-packages (from imbalanced-learn->imblearn) (1.7.1)\n",
      "Requirement already satisfied: threadpoolctl>=2.0.0 in c:\\users\\bushra ansari\\anaconda3\\lib\\site-packages (from imbalanced-learn->imblearn) (2.2.0)\n",
      "Requirement already satisfied: joblib>=0.11 in c:\\users\\bushra ansari\\anaconda3\\lib\\site-packages (from imbalanced-learn->imblearn) (1.1.0)\n"
     ]
    }
   ],
   "source": [
    "!pip install imblearn"
   ]
  },
  {
   "cell_type": "code",
   "execution_count": 74,
   "id": "4eb9aae9",
   "metadata": {},
   "outputs": [],
   "source": [
    "from imblearn.under_sampling import RandomUnderSampler\n",
    "\n",
    "undersample = RandomUnderSampler(replacement=False, sampling_strategy=.6)\n",
    "\n",
    "x_under, y_under = undersample.fit_resample(x_train_sc_df, y_train)"
   ]
  },
  {
   "cell_type": "code",
   "execution_count": 75,
   "id": "9f37d3c4",
   "metadata": {},
   "outputs": [
    {
     "name": "stdout",
     "output_type": "stream",
     "text": [
      "Before sampling class distribution:- Counter({0: 29268, 1: 3672})\n",
      "New class distribution:- Counter({0: 6120, 1: 3672})\n"
     ]
    }
   ],
   "source": [
    "from collections import Counter\n",
    "\n",
    "print('Before sampling class distribution:-',Counter(y_train))\n",
    "\n",
    "print('New class distribution:-',Counter(y_under))"
   ]
  },
  {
   "cell_type": "code",
   "execution_count": 76,
   "id": "92045033",
   "metadata": {},
   "outputs": [],
   "source": [
    "def new_ratio(y):\n",
    "    zero=len(y)-y.sum()\n",
    "    one=y.sum()\n",
    "    rro=round(((one/len(y))*100),2)\n",
    "    rrz=round(((zero/len(y))*100),2)\n",
    "    print(f\"Class ratio 1 ({one}) :0 ({zero}) is {rro}% : {rrz}%\")"
   ]
  },
  {
   "cell_type": "code",
   "execution_count": 77,
   "id": "00ef2021",
   "metadata": {},
   "outputs": [
    {
     "name": "stdout",
     "output_type": "stream",
     "text": [
      "Class ratio 1 (3672) :0 (6120) is 37.5% : 62.5%\n"
     ]
    }
   ],
   "source": [
    "new_ratio(y_under)"
   ]
  },
  {
   "cell_type": "markdown",
   "id": "30a5ab90",
   "metadata": {},
   "source": [
    "### Support Vector Macine"
   ]
  },
  {
   "cell_type": "code",
   "execution_count": 78,
   "id": "cced0063",
   "metadata": {},
   "outputs": [
    {
     "name": "stdout",
     "output_type": "stream",
     "text": [
      "Fitting 3 folds for each of 10 candidates, totalling 30 fits\n"
     ]
    },
    {
     "data": {
      "text/plain": [
       "RandomizedSearchCV(cv=3, estimator=SVC(), n_jobs=-1,\n",
       "                   param_distributions={'C': [0.1, 1, 10], 'degree': [1, 2, 3],\n",
       "                                        'gamma': [0.1, 1, 0.001],\n",
       "                                        'kernel': ['linear', 'poly', 'rbf']},\n",
       "                   verbose=True)"
      ]
     },
     "execution_count": 78,
     "metadata": {},
     "output_type": "execute_result"
    }
   ],
   "source": [
    "# Using GridSearchCV for hyperparameter tuning\n",
    "from sklearn.model_selection import RandomizedSearchCV\n",
    "\n",
    "params1 = {\"kernel\":['linear', 'poly', 'rbf'],\n",
    "       \"degree\":[1,2,3],\n",
    "       \"gamma\":[0.1,1,.001],\n",
    "       \"C\":[0.1,1,10]}\n",
    "\n",
    "sv1 = svm.SVC()\n",
    "svm_class1 = RandomizedSearchCV(sv1, params1, cv=3, n_jobs=-1, verbose=True)\n",
    "svm_class1.fit(x_under, y_under)"
   ]
  },
  {
   "cell_type": "code",
   "execution_count": 79,
   "id": "2db27a43",
   "metadata": {},
   "outputs": [
    {
     "name": "stdout",
     "output_type": "stream",
     "text": [
      "Best roc auc score :  0.8585580065359477\n",
      "SVC(C=1, degree=1, gamma=0.1, kernel='poly')\n"
     ]
    }
   ],
   "source": [
    "print(\"Best roc auc score : \", svm_class1.best_score_)\n",
    "print(svm_class1.best_estimator_)"
   ]
  },
  {
   "cell_type": "code",
   "execution_count": 83,
   "id": "0326821f",
   "metadata": {},
   "outputs": [
    {
     "name": "stdout",
     "output_type": "stream",
     "text": [
      "Train score : 0.8896037581699346\n",
      "Test score : 0.8725109276347741\n",
      "Time Taken 14.493157863616943 sec\n"
     ]
    }
   ],
   "source": [
    "# Model with optimal hyperparameters\n",
    "import time\n",
    "\n",
    "st = time.time()\n",
    "\n",
    "sv3 = svm.SVC(kernel=\"rbf\", degree=2, gamma=0.01, C=10, probability=True)\n",
    "\n",
    "sv3.fit(x_under, y_under)\n",
    "\n",
    "print(\"Train score :\", sv3.score(x_under, y_under))\n",
    "print(\"Test score :\", sv3.score(x_test_sc_df, y_test))\n",
    "\n",
    "et = time.time()\n",
    "print(\"Time Taken\", et-st, \"sec\")"
   ]
  },
  {
   "cell_type": "markdown",
   "id": "494d2958",
   "metadata": {},
   "source": [
    "#### Model Evaluation"
   ]
  },
  {
   "cell_type": "code",
   "execution_count": 84,
   "id": "8770d6dc",
   "metadata": {},
   "outputs": [],
   "source": [
    "def draw_roc( actual, probs ):\n",
    "    fpr, tpr, thresholds = metrics.roc_curve( actual, probs,\n",
    "                                              drop_intermediate = False )\n",
    "    auc_score = metrics.roc_auc_score( actual, probs )\n",
    "    plt.figure(figsize=(5, 5))\n",
    "    plt.plot( fpr, tpr, label='ROC curve (area = %0.2f)' % auc_score )\n",
    "    plt.plot([0, 1], [0, 1], 'k--')\n",
    "    plt.xlim([0.0, 1.0])\n",
    "    plt.ylim([0.0, 1.05])\n",
    "    plt.xlabel('False Positive Rate or [1 - True Negative Rate]')\n",
    "    plt.ylabel('True Positive Rate')\n",
    "    plt.title('Receiver operating characteristic example')\n",
    "    plt.legend(loc=\"lower right\")\n",
    "    plt.show()\n",
    "\n",
    "    return None\n",
    "# Creating function to display ROC-AUC score, f1 score and classification report\n",
    "def display_scores(y_test, y_pred):\n",
    "    '''\n",
    "    Display ROC-AUC score, f1 score and classification report of a model.\n",
    "    '''\n",
    "    print(f\"F1 Score: {round(metrics.f1_score(y_test, y_pred)*100,2)}%\") \n",
    "    print(f\"Classification Report: \\n {metrics.classification_report(y_test, y_pred)}\")"
   ]
  },
  {
   "cell_type": "code",
   "execution_count": 90,
   "id": "ebe2e9c7",
   "metadata": {},
   "outputs": [
    {
     "name": "stdout",
     "output_type": "stream",
     "text": [
      "F1 Score: 85.89%\n",
      "Classification Report: \n",
      "               precision    recall  f1-score   support\n",
      "\n",
      "           0       0.93      0.89      0.91      6120\n",
      "           1       0.82      0.90      0.86      3672\n",
      "\n",
      "    accuracy                           0.89      9792\n",
      "   macro avg       0.88      0.89      0.88      9792\n",
      "weighted avg       0.89      0.89      0.89      9792\n",
      "\n"
     ]
    }
   ],
   "source": [
    "# Predictions on the train set\n",
    "y_train_pred1 = sv3.predict(x_under)\n",
    "display_scores(y_under, y_train_pred1)"
   ]
  },
  {
   "cell_type": "code",
   "execution_count": 91,
   "id": "02a9b3ee",
   "metadata": {},
   "outputs": [
    {
     "data": {
      "image/png": "[encoded data removed]",
      "text/plain": [
       "<Figure size 360x360 with 1 Axes>"
      ]
     },
     "metadata": {
      "needs_background": "light"
     },
     "output_type": "display_data"
    }
   ],
   "source": [
    "# Predicted probability\n",
    "y_train_pred_proba1 = sv3.predict_proba(x_under)[:,1]\n",
    "# Plot the ROC curve\n",
    "draw_roc(y_under, y_train_pred_proba1)"
   ]
  },
  {
   "cell_type": "code",
   "execution_count": 92,
   "id": "dc95e01c",
   "metadata": {},
   "outputs": [
    {
     "name": "stdout",
     "output_type": "stream",
     "text": [
      "F1 Score: 61.82%\n",
      "Classification Report: \n",
      "               precision    recall  f1-score   support\n",
      "\n",
      "           0       0.98      0.87      0.92      7269\n",
      "           1       0.48      0.88      0.62       967\n",
      "\n",
      "    accuracy                           0.87      8236\n",
      "   macro avg       0.73      0.88      0.77      8236\n",
      "weighted avg       0.92      0.87      0.89      8236\n",
      "\n"
     ]
    }
   ],
   "source": [
    "# Evaluating model on the test data\n",
    "y_test_pred1 = sv3.predict(x_test_sc_df)\n",
    "display_scores(y_test, y_test_pred1)"
   ]
  },
  {
   "cell_type": "code",
   "execution_count": 93,
   "id": "ed393b57",
   "metadata": {},
   "outputs": [
    {
     "data": {
      "image/png": "[encoded data removed]",
      "text/plain": [
       "<Figure size 360x360 with 1 Axes>"
      ]
     },
     "metadata": {
      "needs_background": "light"
     },
     "output_type": "display_data"
    }
   ],
   "source": [
    "# Predicted probability\n",
    "y_test_pred_proba1 = sv3.predict_proba(x_test_sc_df)[:,1]\n",
    "# Plot the ROC curve\n",
    "draw_roc(y_test, y_test_pred_proba1)"
   ]
  },
  {
   "cell_type": "code",
   "execution_count": 94,
   "id": "0548f096",
   "metadata": {},
   "outputs": [
    {
     "data": {
      "text/html": [
       "<div>\n",
       "<style scoped>\n",
       "    .dataframe tbody tr th:only-of-type {\n",
       "        vertical-align: middle;\n",
       "    }\n",
       "\n",
       "    .dataframe tbody tr th {\n",
       "        vertical-align: top;\n",
       "    }\n",
       "\n",
       "    .dataframe thead th {\n",
       "        text-align: right;\n",
       "    }\n",
       "</style>\n",
       "<table border=\"1\" class=\"dataframe\">\n",
       "  <thead>\n",
       "    <tr style=\"text-align: right;\">\n",
       "      <th></th>\n",
       "      <th>Model</th>\n",
       "      <th>ROC Score</th>\n",
       "      <th>Precision Score</th>\n",
       "      <th>Recall Score</th>\n",
       "      <th>F1 Score</th>\n",
       "      <th>Accuracy Score</th>\n",
       "    </tr>\n",
       "  </thead>\n",
       "  <tbody>\n",
       "    <tr>\n",
       "      <th>0</th>\n",
       "      <td>Support Vector Machine</td>\n",
       "      <td>0.875327</td>\n",
       "      <td>0.476725</td>\n",
       "      <td>0.879007</td>\n",
       "      <td>0.618182</td>\n",
       "      <td>0.872511</td>\n",
       "    </tr>\n",
       "  </tbody>\n",
       "</table>\n",
       "</div>"
      ],
      "text/plain": [
       "                       Model  ROC Score  Precision Score  Recall Score  \\\n",
       "0   Support Vector Machine     0.875327         0.476725      0.879007   \n",
       "\n",
       "   F1 Score  Accuracy Score  \n",
       "0  0.618182        0.872511  "
      ]
     },
     "execution_count": 94,
     "metadata": {},
     "output_type": "execute_result"
    }
   ],
   "source": [
    "tmp2 = pd.Series({'Model': \" Support Vector Machine  \",\n",
    "                 'ROC Score' : metrics.roc_auc_score(y_test, y_test_pred1),\n",
    "                 'Precision Score': metrics.precision_score(y_test, y_test_pred1),\n",
    "                 'Recall Score': metrics.recall_score(y_test, y_test_pred1),\n",
    "                 'F1 Score' : metrics.f1_score(y_test, y_test_pred1),\n",
    "                 'Accuracy Score': metrics.accuracy_score(y_test, y_test_pred1)})\n",
    "\n",
    "model_svm_imb_report = model_report.append(tmp2, ignore_index = True)\n",
    "model_svm_imb_report"
   ]
  },
  {
   "cell_type": "markdown",
   "id": "4109d017",
   "metadata": {},
   "source": [
    "The performance metric used for this case study is AUC ROC score also known as AUROC (Area Under the Receiver Operating Characteristics).\n"
   ]
  },
  {
   "cell_type": "markdown",
   "id": "4a977c2c",
   "metadata": {},
   "source": [
    "The reason we are choosing AUC over accuracy is because,\n",
    "as we will see in Exploratory data analysis, the dataset we are working with is an imbalanced dataset with the class “no” being the majority class. If we use accuracy as our metric, any random model can give us a very good accuracy. But at the end, it will be a random model. AUC gets over this problem by looking into both the True positive rate (TPR) and False positive rate (FPR). Only if both the TPR and FPR are well above the random line in the ROC curve, we will get a good AUC. Accuracy does not guarantee that."
   ]
  }
 ],
 "metadata": {
  "kernelspec": {
   "display_name": "Python 3 (ipykernel)",
   "language": "python",
   "name": "python3"
  },
  "language_info": {
   "codemirror_mode": {
    "name": "ipython",
    "version": 3
   },
   "file_extension": ".py",
   "mimetype": "text/x-python",
   "name": "python",
   "nbconvert_exporter": "python",
   "pygments_lexer": "ipython3",
   "version": "3.9.7"
  }
 },
 "nbformat": 4,
 "nbformat_minor": 5
}
